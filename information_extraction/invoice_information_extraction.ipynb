{
 "cells": [
  {
   "cell_type": "code",
   "execution_count": 1,
   "id": "f7c04b92",
   "metadata": {},
   "outputs": [],
   "source": [
    "import spacy\n",
    "from spacy.tokens import DocBin\n",
    "from tqdm import tqdm\n",
    "import json\n"
   ]
  },
  {
   "cell_type": "code",
   "execution_count": 2,
   "id": "663fb873",
   "metadata": {},
   "outputs": [],
   "source": [
    "TRAIN_DATA = [\n",
    "    ('Facture FA2310-3910', {'entities': [(8, 19, 'Ref projet')]}),\n",
    "    ('Date facturation : 18/10/2023', {'entities': [(19, 29, 'Date facture')]}),\n",
    "    ('Date échéance : 19/10/2023', {'entities': [(16, 26, 'Date échéance')]}),\n",
    "    ('Code client : CU2002-00627', {'entities': [(14, 26, 'code client')]}),\n",
    "    ('Émetteur Adressé à', {'entities': []}),  # Aucune entité annotée\n",
    "    ('JP & Co AJF TRANS', {'entities': [(1, 17, 'Nom ste/Enseigne/Raison sociale')]}),\n",
    "    ('217, Boulevard Zerktouni, étage 3, numéro 11, Maarif Anassi 34 entrée 4 N° 41 Ahl Loughlam', {'entities': [(0, 90, 'Adresse')]}),\n",
    "    ('20000 Casablanca Casablanca', {'entities': []}),  # Aucune entité annotée\n",
    "    ('Tél.: +212522362219 - Fax: +212522362219 ICE: 001166918000075', {'entities': [(7, 19, 'Téléphone')]}),\n",
    "    ('Email: info@jp.co.ma', {'entities': [(7, 20, 'email')]}),\n",
    "    ('Web: http://www.jp.co.ma', {'entities': [(5, 24, 'site web')]}),\n",
    "    ('Montants exprimés en Dirham', {'entities': []}),  # Aucune entité annotée\n",
    "    ('Désignation TVA P.U. HT Qté Total HT', {'entities': []}),  # Aucune entité annotée\n",
    "    ('ABOSI - Abonnement semestriel à la plateforme JPTRACK avec carte sim 0% 960,00 5 4 800,00', {'entities': [(8, 89, 'designation produit/service')]}),\n",
    "    ('inclus', {'entities': [(0, 6, 'designation produit/service')]}),\n",
    "    ('International', {'entities': [(0, 13, 'designation produit/service')]}),\n",
    "    ('(d\\'octobre 2023 à mars 2024 / 160 DH HT par mois par véhicule)', {'entities': [(0, 62, 'designation produit/service')]}),\n",
    "    ('1.50328-A-13', {'entities': [(0, 12, 'designation produit/service')]}),\n",
    "    # Facture 2\n",
    "    ('Facture FA2310-3921', {'entities': [(0, 19, 'Ref projet')]}),\n",
    "    ('Date facturation : 19/10/2023', {'entities': [(0, 29, 'Date facture')]}),\n",
    "    ('Date échéance : 20/10/2023', {'entities': [(16, 26, 'Date échéance')]}),\n",
    "    ('Code client : CU1903-0502', {'entities': [(14, 25, 'code client')]}),\n",
    "    ('Émetteur Adressé à', {'entities': []}),  # Aucune entité annotée\n",
    "    ('JP & Co TRANS BAYAMO', {'entities': [(0, 20, 'Nom ste/Enseigne/Raison sociale')]}),\n",
    "    ('217, Boulevard Zerktouni, étage 3, numéro 11, Maarif Quartier al boustane, immeuble 4, appartement 2', {'entities': [(0, 100, 'Adresse')]}),\n",
    "    ('20000 Casablanca 24000 El Jadida', {'entities': [(0, 32, 'Adresse')]}),\n",
    "    ('Tél.: +212522362219 - Fax: +212522362219', {'entities': [(6, 20, 'Téléphone')]}),\n",
    "    ('Email: info@jp.co.ma', {'entities': [(7, 20, 'email')]}),\n",
    "    ('Web: http://www.jp.co.ma', {'entities': [(5, 24, 'site web')]}),\n",
    "    ('Montants exprimés en Dirham', {'entities': []}),  # Aucune entité annotée\n",
    "    ('Désignation TVA P.U. HT Qté Réduc. Total HT', {'entities': []}),  # Aucune entité annotée\n",
    "    ('JPLIGHT - Boitier GPS JPLIGHT 20% 650,00 7 4 550,00', {'entities': [(0, 39, 'designation produit/service')]}),\n",
    "    ('Règlement TTC par chèque', {'entities': []}),  # Aucune entité annotée\n",
    "    ('Total TTC 4 550,00', {'entities': [(0, 13, 'Total TTC')]}),\n",
    "    ('Conditions de règlement: A réception Total HT 4 550,00', {'entities': [(35, 46, 'Total HT')]}),\n",
    "    ('Règlement TTC par chèque à l\\'ordre de JP & Co envoyé à', {'entities': []}),  # Aucune entité annotée\n",
    "    ('217, Boulevard Zerktouni, étage 3, numéro 11, Maarif', {'entities': [(0, 52, 'Adresse')]}),\n",
    "    ('20000 Casablanca', {'entities': [(0, 16, 'Adresse')]}),\n",
    "    ('Règlement par virement sur le compte bancaire suivant:', {'entities': []}),  # Aucune entité annotée\n",
    "    ('Banque: BMCI', {'entities': [(8, 12, 'Banque')]}),\n",
    "    ('Numéro de compte: 011780000047210000445396', {'entities': [(15, 45, 'Numéro de compte')]}),\n",
    "    ('Adresse: AGENCE SOUKTANI - ANG RUE JEAN JAURES ET BD SOUKTANI 20000 CASABLNCA', {'entities': [(9, 77, 'Adresse')]}),\n",
    "    ('MAROC', {'entities': [(0, 4, 'Adresse')]}),\n",
    "    ('Nom du propriétaire du compte: JP&Co', {'entities': [(31, 36, 'Nom du propriétaire du compte')]}),\n",
    "    ('Code IBAN: M640 1178 0000 0472 1000 0445 396', {'entities': [(9, 49, 'Code IBAN')]}),\n",
    "    ('Code BIC/SWIFT: BMCEMAMC', {'entities': [(0, 20, 'Code BIC/SWIFT')]}),\n",
    "    ('Société à Responsabilité Limitée (S.A.R.L) - Capital de 700 000 MAD - R.C.: ', {'entities': []}),  # Aucune entité annotée\n",
    "    # Facture 3\n",
    "    ('Facture FA2310-3922', {'entities': [(8, 19, 'Ref projet')]}),\n",
    "    ('Date facturation : 20/10/2023', {'entities': [(19, 29, 'Date facture')]}),\n",
    "    ('Date échéance : 21/10/2023', {'entities': [(16, 26, 'Date échéance')]}),\n",
    "    ('Code client : CU2105-0742', {'entities': [(14, 26, 'code client')]}),\n",
    "    ('Émetteur Adressé à', {'entities': []}),  # Aucune entité annotée\n",
    "    ('JP & Co KANOU', {'entities': [(1, 14, 'Nom ste/Enseigne/Raison sociale')]}),\n",
    "    ('Avenue de l\\'Union Africaine, 102', {'entities': [(0, 33, 'Adresse')]}),\n",
    "    ('20000 Casablanca', {'entities': [(0, 16, 'Adresse')]}),\n",
    "    ('Tél.: +212522362219 - Fax: +212522362219', {'entities': [(6, 20, 'Téléphone')]}),\n",
    "    ('Email: info@jp.co.ma', {'entities': [(7, 20, 'email')]}),\n",
    "    ('Web: http://www.jp.co.ma', {'entities': [(5, 24, 'site web')]}),\n",
    "    ('Montants exprimés en Dirham', {'entities': []}),  # Aucune entité annotée\n",
    "    ('Désignation TVA P.U. HT Qté Réduc. Total HT', {'entities': []}),  # Aucune entité annotée\n",
    "    ('ABOSI - Abonnement semestriel à la plateforme JPTRACK avec carte sim 0% 960,00 5 4 800,00', {'entities': [(0, 89, 'designation produit/service')]}),\n",
    "    ('inclus', {'entities': [(0, 6, 'designation produit/service')]}),\n",
    "    ('International', {'entities': [(0, 13, 'designation produit/service')]}),\n",
    "    ('(d\\'octobre 2023 à mars 2024 / 160 DH HT par mois par véhicule)', {'entities': [(0, 62, 'designation produit/service')]}),\n",
    "    ('1.50328-A-13', {'entities': [(0, 12, 'designation produit/service')]}),\n",
    "    ('Règlement TTC par chèque', {'entities': []}),  # Aucune entité annotée\n",
    "    ('Total TTC 4 800,00', {'entities': [(0, 13, 'Total TTC')]}),\n",
    "    ('Conditions de règlement: A réception Total HT 4 800,00', {'entities': [(35, 46, 'Total HT')]}),\n",
    "    # Facture 4\n",
    "    ('Facture FA2310-3923', {'entities': [(8, 19, 'Ref projet')]}),\n",
    "    ('Date facturation : 21/10/2023', {'entities': [(19, 29, 'Date facture')]}),\n",
    "    ('Date échéance : 22/10/2023', {'entities': [(16, 26, 'Date échéance')]}),\n",
    "    ('Code client : CU2002-00627', {'entities': [(14, 26, 'code client')]}),\n",
    "    ('Émetteur Adressé à', {'entities': []}),  # Aucune entité annotée\n",
    "    ('JP & Co KHAL', {'entities': [(1, 11, 'Nom ste/Enseigne/Raison sociale')]}),\n",
    "    ('Rue d\\'Alger, 27', {'entities': [(0, 15, 'Adresse')]}),\n",
    "    ('20000 Casablanca', {'entities': [(0, 16, 'Adresse')]}),\n",
    "    ('Tél.: +212522362219 - Fax: +212522362219', {'entities': [(6, 20, 'Téléphone')]}),\n",
    "    ('Email: info@jp.co.ma', {'entities': [(7, 20, 'email')]}),\n",
    "    ('Web: http://www.jp.co.ma', {'entities': [(5, 24, 'site web')]}),\n",
    "    ('Montants exprimés en Dirham', {'entities': []}),  # Aucune entité annotée\n",
    "    ('Désignation TVA P.U. HT Qté Réduc. Total HT', {'entities': []}),  # Aucune entité annotée\n",
    "    ('JPLIGHT - Boitier GPS JPLIGHT 20% 650,00 7 4 550,00', {'entities': [(0, 39, 'designation produit/service')]}),\n",
    "    ('inclus', {'entities': [(0, 6, 'designation produit/service')]}),\n",
    "    ('International', {'entities': [(0, 13, 'designation produit/service')]}),\n",
    "    ('(d\\'octobre 2023 à mars 2024 / 160 DH HT par mois par véhicule)', {'entities': [(0, 62, 'designation produit/service')]}),\n",
    "    ('1.50328-A-13', {'entities': [(0, 12, 'designation produit/service')]}),\n",
    "    ('Règlement TTC par chèque', {'entities': []}),  # Aucune entité annotée\n",
    "    ('Total TTC 4 550,00', {'entities': [(0, 13, 'Total TTC')]}),\n",
    "    ('Conditions de règlement: A réception Total HT 4 550,00', {'entities': [(35, 46, 'Total HT')]}),\n",
    "]"
   ]
  },
  {
   "cell_type": "code",
   "execution_count": 3,
   "id": "27d52a12",
   "metadata": {},
   "outputs": [
    {
     "name": "stderr",
     "output_type": "stream",
     "text": [
      "100%|██████████| 89/89 [00:00<00:00, 1589.30it/s]"
     ]
    },
    {
     "name": "stdout",
     "output_type": "stream",
     "text": [
      "Skipping entity\n",
      "Skipping entity\n",
      "Skipping entity\n",
      "Skipping entity\n",
      "Skipping entity\n",
      "Skipping entity\n",
      "Skipping entity\n"
     ]
    },
    {
     "name": "stderr",
     "output_type": "stream",
     "text": [
      "\n"
     ]
    }
   ],
   "source": [
    "import pandas as pd\n",
    "import os\n",
    "from tqdm import tqdm\n",
    "import spacy\n",
    "from spacy.tokens import DocBin\n",
    "\n",
    "nlp = spacy.blank(\"fr\") # load a new spacy model\n",
    "#nlp = spacy.load(\"en_core_web_sm\") # load other spacy model\n",
    "\n",
    "db = DocBin() # create a DocBin object\n",
    "\n",
    "for text, annot in tqdm(TRAIN_DATA): # data in previous format\n",
    "    doc = nlp.make_doc(text) # create doc object from text\n",
    "    ents = []\n",
    "    for start, end, label in annot[\"entities\"]: # add character indexes\n",
    "        span = doc.char_span(start, end, label=label, alignment_mode=\"contract\")\n",
    "        if span is None:\n",
    "            print(\"Skipping entity\")\n",
    "        else:\n",
    "            ents.append(span)\n",
    "    doc.ents = ents # label the text with the ents\n",
    "    db.add(doc)\n",
    "\n",
    "\n",
    "db.to_disk(\"./TRAIN_DATA.spacy\") # save the docbin object"
   ]
  },
  {
   "cell_type": "code",
   "execution_count": 5,
   "id": "934f90aa",
   "metadata": {},
   "outputs": [
    {
     "name": "stdout",
     "output_type": "stream",
     "text": [
      "\u001b[38;5;2m[+] Auto-filled config with all values\u001b[0m\n",
      "\u001b[38;5;2m[+] Saved config\u001b[0m\n",
      "config_fr.cfg\n",
      "You can now add your data and train your pipeline:\n",
      "python -m spacy train config_fr.cfg --paths.train ./train.spacy --paths.dev ./dev.spacy\n"
     ]
    }
   ],
   "source": [
    "!python -m spacy init fill-config base_config_fr.cfg config_fr.cfg"
   ]
  },
  {
   "cell_type": "code",
   "execution_count": 6,
   "id": "c93f107e",
   "metadata": {},
   "outputs": [
    {
     "name": "stdout",
     "output_type": "stream",
     "text": [
      "\u001b[38;5;2m[+] Created output directory: output\u001b[0m\n",
      "\u001b[38;5;4m[i] Saving to output directory: output\u001b[0m\n",
      "\u001b[38;5;4m[i] Using CPU\u001b[0m\n",
      "\u001b[1m\n",
      "=========================== Initializing pipeline ===========================\u001b[0m\n",
      "\u001b[38;5;2m[+] Initialized pipeline\u001b[0m\n",
      "\u001b[1m\n",
      "============================= Training pipeline =============================\u001b[0m\n",
      "\u001b[38;5;4m[i] Pipeline: ['tok2vec', 'ner']\u001b[0m\n",
      "\u001b[38;5;4m[i] Initial learn rate: 0.001\u001b[0m\n",
      "E    #       LOSS TOK2VEC  LOSS NER  ENTS_F  ENTS_P  ENTS_R  SCORE \n",
      "---  ------  ------------  --------  ------  ------  ------  ------\n",
      "  0       0          0.00     62.53    0.00    0.00    0.00    0.00\n",
      " 37     200        210.13   2778.03   95.16   96.72   93.65    0.95\n",
      " 83     400         40.74    415.68   95.93   98.33   93.65    0.96\n",
      "137     600         37.83    298.66   97.60   98.39   96.83    0.98\n",
      "203     800         39.70    319.49   96.12   93.94   98.41    0.96\n",
      "285    1000         42.75    385.47   97.64   96.88   98.41    0.98\n",
      "385    1200         37.46    427.32   96.06   95.31   96.83    0.96\n",
      "485    1400         30.63    440.58   96.06   95.31   96.83    0.96\n",
      "630    1600         61.81    601.49   96.12   93.94   98.41    0.96\n",
      "830    1800         52.75    827.88   97.64   96.88   98.41    0.98\n",
      "1030    2000         40.72    812.62   97.60   98.39   96.83    0.98\n",
      "\u001b[38;5;2m[+] Saved pipeline to output directory\u001b[0m\n",
      "output\\model-last\n"
     ]
    }
   ],
   "source": [
    "!python -m spacy train config_fr.cfg --output output --paths.train TRAIN_DATA.spacy --paths.dev TRAIN_DATA.spacy "
   ]
  },
  {
   "cell_type": "code",
   "execution_count": 9,
   "id": "7c38b7f1",
   "metadata": {},
   "outputs": [],
   "source": [
    "nlp2 = spacy.load(r\"./output/model-best\") #load the best model"
   ]
  },
  {
   "cell_type": "code",
   "execution_count": 12,
   "id": "3b2e6f1d",
   "metadata": {},
   "outputs": [
    {
     "name": "stdout",
     "output_type": "stream",
     "text": [
      "FA2308-3865  ---->> Ref projet\n",
      "04/08/2023  ---->> Date facture\n",
      "05/08/2023  ---->> Date échéance\n",
      "CU1911-00591  ---->> code client\n",
      "AdressÃ© Ã \n",
      "JP & Co BIBA TRAVAUX\n",
      "217, Boulevard Zerktouni, Ã©tage 3, numÃ©ro 11, Maarif NÂ° 20 Rue  ---->> designation produit/service\n",
      "+212522362219  ---->> Téléphone\n",
      "info@jp.co.ma  ---->> email\n",
      "http://www.jp.co.ma  ---->> site web\n",
      "ABOTI - Abonnement trimestriel Ã  la plateforme JPTRACK avec carte sim 20%  ---->> designation produit/service\n",
      ", septembre 2023, octobre 2023/ 40 DH HT par mois par\n",
      "vÃ©hicule)  ---->> designation produit/service\n",
      "ABO2I - Abonnement 2 mois Ã  la plateforme avec carte sim inclus 20%  ---->> designation produit/service\n",
      "14463922  ---->> Téléphone\n",
      "000009253000041  ---->> Téléphone\n",
      "9792757  ---->> Téléphone\n",
      "FFAA22330088--33886655\n",
      "  ---->> Ref projet\n",
      "CCUU11991111  ---->> Téléphone\n",
      "Total HT  ---->> Total HT\n",
      "Total TVA  ---->> Total HT\n",
      "Total TTC 4  ---->> Total TTC\n",
      "217, Boulevard Zerktouni, Ã©tage 3, numÃ©ro 11, Maarif  ---->> Adresse\n",
      "AGENCE SOUKTANI - ANG RUE JEAN JAURES ET BD SOUKTANI 20000 CASABLNCA\n",
      "MAROC\n",
      "Nom du propriÃ©taire du compte: JP&Co\n",
      "Code IBAN: M640 1178 0000 0472 1000 0445 396\n",
      "Code BIC/SWIFT:  ---->> Adresse\n",
      "14463922  ---->> Téléphone\n",
      "000009253000041  ---->> Téléphone\n",
      "9792757  ---->> Téléphone\n"
     ]
    }
   ],
   "source": [
    "with open(\"./FA2308-3865.txt\", \"r\") as file:\n",
    "    text_file = file.read()\n",
    "\n",
    "# Process the text with spaCy NER\n",
    "doc = nlp2(text_file)\n",
    "\n",
    "# Print entities\n",
    "for ent in doc.ents:\n",
    "    print(ent.text, \" ---->>\" , ent.label_)"
   ]
  },
  {
   "cell_type": "code",
   "execution_count": 20,
   "id": "785f4ad4",
   "metadata": {},
   "outputs": [
    {
     "name": "stdout",
     "output_type": "stream",
     "text": [
      "{'text': 'FA2308-3865', 'label': 'Ref projet'}\n",
      "{'text': '04/08/2023', 'label': 'Date facture'}\n",
      "{'text': '05/08/2023', 'label': 'Date échéance'}\n",
      "{'text': 'CU1911-00591', 'label': 'code client'}\n",
      "{'text': 'AdressÃ© Ã\\xa0\\nJP & Co BIBA TRAVAUX\\n217, Boulevard Zerktouni, Ã©tage 3, numÃ©ro 11, Maarif NÂ° 20 Rue', 'label': 'designation produit/service'}\n",
      "{'text': '+212522362219', 'label': 'Téléphone'}\n",
      "{'text': 'info@jp.co.ma', 'label': 'email'}\n",
      "{'text': 'http://www.jp.co.ma', 'label': 'site web'}\n",
      "{'text': 'ABOTI - Abonnement trimestriel Ã\\xa0 la plateforme JPTRACK avec carte sim 20%', 'label': 'designation produit/service'}\n",
      "{'text': ', septembre 2023, octobre 2023/ 40 DH HT par mois par\\nvÃ©hicule)', 'label': 'designation produit/service'}\n",
      "{'text': 'ABO2I - Abonnement 2 mois Ã\\xa0 la plateforme avec carte sim inclus 20%', 'label': 'designation produit/service'}\n",
      "{'text': '14463922', 'label': 'Téléphone'}\n",
      "{'text': '000009253000041', 'label': 'Téléphone'}\n",
      "{'text': '9792757', 'label': 'Téléphone'}\n",
      "{'text': 'FFAA22330088--33886655\\n', 'label': 'Ref projet'}\n",
      "{'text': 'CCUU11991111', 'label': 'Téléphone'}\n",
      "{'text': 'Total HT', 'label': 'Total HT'}\n",
      "{'text': 'Total TVA', 'label': 'Total HT'}\n",
      "{'text': 'Total TTC 4', 'label': 'Total TTC'}\n",
      "{'text': '217, Boulevard Zerktouni, Ã©tage 3, numÃ©ro 11, Maarif', 'label': 'Adresse'}\n",
      "{'text': 'AGENCE SOUKTANI - ANG RUE JEAN JAURES ET BD SOUKTANI 20000 CASABLNCA\\nMAROC\\nNom du propriÃ©taire du compte: JP&Co\\nCode IBAN: M640 1178 0000 0472 1000 0445 396\\nCode BIC/SWIFT:', 'label': 'Adresse'}\n",
      "{'text': '14463922', 'label': 'Téléphone'}\n",
      "{'text': '000009253000041', 'label': 'Téléphone'}\n",
      "{'text': '9792757', 'label': 'Téléphone'}\n"
     ]
    }
   ],
   "source": [
    "with open(\"./FA2308-3865.txt\", \"r\") as file:\n",
    "    text_file = file.read()\n",
    "\n",
    "# Process the text with spaCy NER\n",
    "doc = nlp2(text_file)\n",
    "\n",
    "# List to store entities\n",
    "entities_list = []\n",
    "\n",
    "# Create dictionaries for entities\n",
    "for ent in doc.ents:\n",
    "    entity_dict = {\n",
    "        \"text\": ent.text,\n",
    "        \"label\": ent.label_\n",
    "    }\n",
    "    entities_list.append(entity_dict)\n"
   ]
  },
  {
   "cell_type": "code",
   "execution_count": 21,
   "id": "3a43786a",
   "metadata": {},
   "outputs": [
    {
     "name": "stdout",
     "output_type": "stream",
     "text": [
      "Entities extracted and saved to: ./entities_output.json\n"
     ]
    }
   ],
   "source": [
    "\n",
    "# Save entities to a JSON file\n",
    "output_file = \"./entities_output.json\"\n",
    "with open(output_file, \"w\", encoding=\"utf-8\") as json_file:\n",
    "    json.dump(entities_list, json_file, ensure_ascii=False, indent=4)\n",
    "\n",
    "print(\"Entities extracted and saved to:\", output_file)"
   ]
  },
  {
   "cell_type": "code",
   "execution_count": null,
   "id": "abf4e624",
   "metadata": {},
   "outputs": [],
   "source": []
  }
 ],
 "metadata": {
  "kernelspec": {
   "display_name": "Python 3 (ipykernel)",
   "language": "python",
   "name": "python3"
  },
  "language_info": {
   "codemirror_mode": {
    "name": "ipython",
    "version": 3
   },
   "file_extension": ".py",
   "mimetype": "text/x-python",
   "name": "python",
   "nbconvert_exporter": "python",
   "pygments_lexer": "ipython3",
   "version": "3.10.9"
  }
 },
 "nbformat": 4,
 "nbformat_minor": 5
}
